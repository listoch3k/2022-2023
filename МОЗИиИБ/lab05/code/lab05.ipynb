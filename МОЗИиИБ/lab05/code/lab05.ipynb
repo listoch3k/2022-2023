{
 "cells": [
  {
   "cell_type": "code",
   "execution_count": 1,
   "id": "8ab87229",
   "metadata": {},
   "outputs": [],
   "source": [
    "import random"
   ]
  },
  {
   "cell_type": "code",
   "execution_count": 2,
   "id": "abdb224f",
   "metadata": {},
   "outputs": [],
   "source": [
    "def ferma(n, test_count):\n",
    "    for i in range(test_count):\n",
    "        a = random.randint(2, n - 1)\n",
    "        if (a ** (n - 1) % n != 1):\n",
    "            print(\"Число n составное\")\n",
    "            return False\n",
    "    print(\"Число n, вероятно, простое\")\n",
    "    return True"
   ]
  },
  {
   "cell_type": "code",
   "execution_count": 3,
   "id": "9e8d5e22",
   "metadata": {},
   "outputs": [],
   "source": [
    "def find_jacobian(a, n):\n",
    "    if (a == 0):\n",
    "        return 0\n",
    "    ans = 1\n",
    "    if (a < 0):\n",
    "        a = -a\n",
    "        if (n % 4 == 3):\n",
    "            ans = -ans\n",
    "    if (a == 1):\n",
    "        return ans\n",
    "    \n",
    "    while(a):\n",
    "        if (a < 0):\n",
    "            a = -a\n",
    "            if (n % 4 == 3):\n",
    "                ans = -ans\n",
    "        while (a % 2 == 0):\n",
    "            a = a // 2\n",
    "            if (n % 8 == 3 or n % 8 == 5):\n",
    "                ans = -ans\n",
    "        \n",
    "        a, n = n, a\n",
    "        \n",
    "        if (a % 4 == 3 and n % 4 == 3):\n",
    "            ans = -ans\n",
    "        a = a % n\n",
    "        if (a > n // 2):\n",
    "            a = a - n\n",
    "        \n",
    "    if (n == 1):\n",
    "        return ans\n",
    "    \n",
    "    return 0"
   ]
  },
  {
   "cell_type": "code",
   "execution_count": 4,
   "id": "dfb6a2a0",
   "metadata": {},
   "outputs": [],
   "source": [
    "def modul(base, exponent, mod):\n",
    "    x = 1\n",
    "    y = base\n",
    "    while(exponent > 0):\n",
    "        if (exponent % 2 == 1):\n",
    "            x = (x * y) % mod\n",
    "        y = (y * y) % mod\n",
    "        exponent = exponent // 2\n",
    "    return x % mod"
   ]
  },
  {
   "cell_type": "code",
   "execution_count": 5,
   "id": "bdbfcd8f",
   "metadata": {},
   "outputs": [],
   "source": [
    "def solovay_strassen(p, iterations):\n",
    "    if (p < 2):\n",
    "        return False\n",
    "    if (p != 2 and p % 2 == 0):\n",
    "        return False\n",
    "    \n",
    "    for i in range(iterations):\n",
    "        a = random.randrange(p - 1) + 1\n",
    "        jacobian = (p + find_jacobian(a, p)) % p\n",
    "        mod = modul(a, (p - 1) / 2, p)\n",
    "        if (jacobian == 0 or mod != jacobian):\n",
    "            return False\n",
    "    return True"
   ]
  },
  {
   "cell_type": "code",
   "execution_count": 6,
   "id": "28133047",
   "metadata": {},
   "outputs": [],
   "source": [
    "def miller_rabin(n):\n",
    "    if (n != int(n)):\n",
    "        print(\"Число n составное\")\n",
    "        return False\n",
    "    n = int(n)\n",
    "    if (n == 0 or n == 1 or n == 4 or n == 6 or n == 8 or n == 9):\n",
    "        print(\"Число n составное\")\n",
    "        return False\n",
    "    if (n == 2 or n == 3 or n == 5 or n == 7):\n",
    "        print(\"Число n, вероятно, простое\")\n",
    "        return True\n",
    "    s = 0\n",
    "    d = n - 1\n",
    "    while (d % 2 == 0):\n",
    "        d >> 1\n",
    "        s += 1\n",
    "    assert(2 ** s * d == n - a)\n",
    "    \n",
    "    def probn_sost(a):\n",
    "        if pow(a, d, n) == 1:\n",
    "            print(\"Число n составное\")\n",
    "            return False\n",
    "        for i in range(s):\n",
    "            if pow(a, 2 ** i * d, n) == n - a:\n",
    "                print(\"Число n составное\")\n",
    "                return False\n",
    "        print(\"Число n, вероятно, простое\")\n",
    "        return True\n",
    "    \n",
    "    for i in range(8):\n",
    "        a = random.randrange(2, n)\n",
    "        if probn_sost(a):\n",
    "            print(\"Число n составное\")\n",
    "            return False\n",
    "    print(\"Число n, вероятно, простое\")\n",
    "    return True"
   ]
  },
  {
   "cell_type": "code",
   "execution_count": 13,
   "id": "8517e65e",
   "metadata": {},
   "outputs": [
    {
     "name": "stdout",
     "output_type": "stream",
     "text": [
      "Тест Ферма\n",
      "Введите число для теста Ферма: 8\n",
      "Число n составное\n",
      "\n",
      "Тест Миллера-Рабина\n",
      "Введите число для теста Миллера-Рабина: 8\n",
      "Число n составное\n",
      "\n",
      "Тест Соловэя-Штрассена\n",
      "Введите число для теста Соловэя-Штрассена: 8\n",
      "Число n составное\n"
     ]
    }
   ],
   "source": [
    "print(\"Тест Ферма\")\n",
    "n = int(input(\"Введите число для теста Ферма: \"))\n",
    "ferma(n, 500)\n",
    "\n",
    "print(\"\\nТест Миллера-Рабина\")\n",
    "n = int(input(\"Введите число для теста Миллера-Рабина: \"))\n",
    "miller_rabin(n)\n",
    "\n",
    "print(\"\\nТест Соловэя-Штрассена\")\n",
    "n = int(input(\"Введите число для теста Соловэя-Штрассена: \"))\n",
    "if (solovay_strassen(n, 500)):\n",
    "    print(\"Число n, вероятно, простое\")\n",
    "else:\n",
    "    print(\"Число n составное\")"
   ]
  },
  {
   "cell_type": "code",
   "execution_count": null,
   "id": "34453e3f",
   "metadata": {},
   "outputs": [],
   "source": []
  }
 ],
 "metadata": {
  "kernelspec": {
   "display_name": "Python 3 (ipykernel)",
   "language": "python",
   "name": "python3"
  },
  "language_info": {
   "codemirror_mode": {
    "name": "ipython",
    "version": 3
   },
   "file_extension": ".py",
   "mimetype": "text/x-python",
   "name": "python",
   "nbconvert_exporter": "python",
   "pygments_lexer": "ipython3",
   "version": "3.9.5"
  }
 },
 "nbformat": 4,
 "nbformat_minor": 5
}
