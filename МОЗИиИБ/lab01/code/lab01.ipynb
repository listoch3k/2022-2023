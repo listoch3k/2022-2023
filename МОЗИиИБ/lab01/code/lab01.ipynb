{
 "cells": [
  {
   "cell_type": "code",
   "execution_count": 12,
   "id": "8e5e9606-4d5d-483a-a937-1c14547f4ccf",
   "metadata": {},
   "outputs": [],
   "source": [
    "FIRST_SYMBOL_ASCII = 97\n",
    "LAST_SYMBOL_ASCII = 122\n",
    "alphabet = 26\n",
    "IGNORE = \" 1234567890.,?!-=:;+*{}[]<>^\""
   ]
  },
  {
   "cell_type": "code",
   "execution_count": 13,
   "id": "924a1d37-6e31-44de-9091-1eca39c910b7",
   "metadata": {},
   "outputs": [],
   "source": [
    "def caesar(message, shift, action):\n",
    "    new_message = \"\"\n",
    "    for symbol in message:\n",
    "        if symbol in IGNORE:\n",
    "            new_message += symbol\n",
    "            continue\n",
    "        if (action == 1):\n",
    "            new_symbol = chr(FIRST_SYMBOL_ASCII + ((ord(symbol) - FIRST_SYMBOL_ASCII + shift) % alphabet))\n",
    "        else:\n",
    "            new_symbol = chr(FIRST_SYMBOL_ASCII + ((ord(symbol) - FIRST_SYMBOL_ASCII - shift) % alphabet))\n",
    "        new_message += new_symbol\n",
    "    return new_message"
   ]
  },
  {
   "cell_type": "code",
   "execution_count": 14,
   "id": "0fe42190-a598-42fc-b589-d603f4726bcb",
   "metadata": {},
   "outputs": [],
   "source": [
    "def atbash(message, action):\n",
    "    new_message = \"\"\n",
    "    for symbol in message:\n",
    "        if symbol in IGNORE:\n",
    "            new_message += symbol\n",
    "            continue\n",
    "        if (action == 1):\n",
    "            new_symbol = chr(FIRST_SYMBOL_ASCII + LAST_SYMBOL_ASCII - ord(symbol))\n",
    "        else:\n",
    "            new_symbol = chr(FIRST_SYMBOL_ASCII - ord(symbol) + LAST_SYMBOL_ASCII)\n",
    "        new_message += new_symbol\n",
    "    return new_message"
   ]
  },
  {
   "cell_type": "code",
   "execution_count": null,
   "id": "b74fe818-83d7-4eec-b044-3a08da6e2290",
   "metadata": {},
   "outputs": [
    {
     "name": "stdin",
     "output_type": "stream",
     "text": [
      "\n",
      "Введите:\n",
      "1 - шифр Цезаря\n",
      "2 - шифр Атбаш\n",
      "0 - для выхода\n",
      " 2\n",
      "\n",
      "Введите:\n",
      "1 - шифрование\n",
      "2 - расшифровка\n",
      " 1\n",
      "\n",
      "Введите сообщение: abc\n"
     ]
    },
    {
     "name": "stdout",
     "output_type": "stream",
     "text": [
      "\n",
      "Шифр Атбаш\n",
      "Расшифрованное сообщение:\n",
      "zyx\n"
     ]
    },
    {
     "name": "stdin",
     "output_type": "stream",
     "text": [
      "\n",
      "Введите:\n",
      "1 - шифр Цезаря\n",
      "2 - шифр Атбаш\n",
      "0 - для выхода\n",
      " 2\n",
      "\n",
      "Введите:\n",
      "1 - шифрование\n",
      "2 - расшифровка\n",
      " 2\n",
      "\n",
      "Введите сообщение: zyx\n"
     ]
    },
    {
     "name": "stdout",
     "output_type": "stream",
     "text": [
      "\n",
      "Шифр Атбаш\n",
      "Расшифрованное сообщение:\n",
      "abc\n"
     ]
    }
   ],
   "source": [
    "while(True):\n",
    "    action = int(input(\"\\nВведите:\\n1 - шифр Цезаря\\n2 - шифр Атбаш\\n0 - для выхода\\n\"))\n",
    "    if (action == 1):\n",
    "        action_1 = int(input(\"\\nВведите:\\n1 - шифрование\\n2 - расшифровка\\n\"))\n",
    "        message = input(\"\\nВведите сообщение:\")\n",
    "        shift = int(input(\"\\nВведите сдвиг\"))\n",
    "        if (action_1 == 1):\n",
    "            result = caesar(message, shift, 1)\n",
    "            print(\"\\nШифр Цезаря\\nЗашифрованное сообщение:\\n{}\".format(result))\n",
    "        else:\n",
    "            result = caesar(message, shift, 2)\n",
    "            print(\"\\nШифр Цезаря\\nРасшифрованное сообщение:\\n{}\".format(result))\n",
    "    elif (action ==2):\n",
    "        action_2 = int(input(\"\\nВведите:\\n1 - шифрование\\n2 - расшифровка\\n\"))\n",
    "        message = input(\"\\nВведите сообщение:\")\n",
    "        if (action == 1):\n",
    "            result = atbash(message, 1)\n",
    "            print(\"\\nШифр Атбаш\\nЗашифрованное сообщение:\\n{}\".format(result))  \n",
    "        else:\n",
    "            result = atbash(message, 2)\n",
    "            print(\"\\nШифр Атбаш\\nРасшифрованное сообщение:\\n{}\".format(result))  \n",
    "    elif (action == 0):\n",
    "        break\n",
    "    else:\n",
    "        print(\"Ошибка\")"
   ]
  },
  {
   "cell_type": "code",
   "execution_count": null,
   "id": "79ce5e95-f868-4241-8453-396f0ccb9334",
   "metadata": {},
   "outputs": [],
   "source": []
  }
 ],
 "metadata": {
  "kernelspec": {
   "display_name": "Python 3 (ipykernel)",
   "language": "python",
   "name": "python3"
  },
  "language_info": {
   "codemirror_mode": {
    "name": "ipython",
    "version": 3
   },
   "file_extension": ".py",
   "mimetype": "text/x-python",
   "name": "python",
   "nbconvert_exporter": "python",
   "pygments_lexer": "ipython3",
   "version": "3.9.5"
  }
 },
 "nbformat": 4,
 "nbformat_minor": 5
}
