{
 "cells": [
  {
   "cell_type": "code",
   "execution_count": 29,
   "id": "4701f889-8275-471a-86e9-3d5a7867a6d7",
   "metadata": {},
   "outputs": [],
   "source": [
    "alphabet = \"абвгдеёжзийклмнопрстуфхцчшщъыьэюя\"\n",
    "ignore_symbols = \"!.,@#$%^&*()-+={}[]<>/ \""
   ]
  },
  {
   "cell_type": "code",
   "execution_count": 30,
   "id": "c32de6d6-f673-4eec-aa1b-d67b9d2c298c",
   "metadata": {},
   "outputs": [],
   "source": [
    "def gamma_shifr(gamma, message_length):\n",
    "    new = \"\"\n",
    "    for i in range(message_length):\n",
    "        new += gamma[i % len(gamma)]\n",
    "    return new"
   ]
  },
  {
   "cell_type": "code",
   "execution_count": 31,
   "id": "c2276803-7b68-429f-9269-12c2291c13fc",
   "metadata": {},
   "outputs": [],
   "source": [
    "def get_indexes(text):\n",
    "    indexes = []\n",
    "    for letter in text:\n",
    "        try:\n",
    "            indexes.append(alphabet.index(letter) + 1)\n",
    "        except ValueError:\n",
    "            indexes.append(ignore_symbols.index(letter) + 10000)\n",
    "    return indexes"
   ]
  },
  {
   "cell_type": "code",
   "execution_count": 32,
   "id": "8d693e6c-9780-4cd1-a346-42035f3c5e91",
   "metadata": {},
   "outputs": [],
   "source": [
    "def encrypt(message_indexes, gamma_indexes):\n",
    "    indexes = []\n",
    "    for ix, item in enumerate(message_indexes):\n",
    "        if message_indexes[ix] > 10000 or gamma_indexes[ix] > 10000:\n",
    "            result = item\n",
    "            indexes.append(result)\n",
    "            continue\n",
    "        result = (message_indexes[ix] + gamma_indexes[ix]) % len(alphabet)\n",
    "        indexes.append(result)\n",
    "    return indexes"
   ]
  },
  {
   "cell_type": "code",
   "execution_count": 33,
   "id": "091cea64-bba9-4641-8c5f-f7bd9682913a",
   "metadata": {},
   "outputs": [],
   "source": [
    "def to_text(indexes):\n",
    "    text = \"\"\n",
    "    for index in indexes:\n",
    "        if index > 10000:\n",
    "            text += ignore_symbols[index - 10000]\n",
    "            continue\n",
    "        text += alphabet[index - 1]\n",
    "    return text"
   ]
  },
  {
   "cell_type": "code",
   "execution_count": 34,
   "id": "332671ac-c590-4345-9a9c-7a48d6a9802f",
   "metadata": {},
   "outputs": [
    {
     "name": "stdin",
     "output_type": "stream",
     "text": [
      "Введите сообщение:  шифр\n",
      "Введите ключ (гамма):  шифр\n"
     ]
    },
    {
     "name": "stdout",
     "output_type": "stream",
     "text": [
      "\n",
      "Преобразование ШИФР -> ШИФР\n",
      "\n",
      "Ваше сообщение:\n",
      "ШИФР ([26, 10, 22, 18])\n",
      "\n",
      "Ваша гамма:\n",
      "ШИФР ([26, 10, 22, 18])\n",
      "\n",
      "Зашифрованное сообщение:\n",
      "СТЙВ ([19, 20, 11, 3])\n"
     ]
    }
   ],
   "source": [
    "message = input(\"Введите сообщение: \")\n",
    "gamma = input(\"Введите ключ (гамма): \")\n",
    "new = gamma_shifr(gamma, len(message))\n",
    "print(\"\\nПреобразование {} -> {}\".format(gamma.upper(), new.upper()))\n",
    "message_indexes = get_indexes(message)\n",
    "print(\"\\nВаше сообщение:\\n{} ({})\".format(message.upper(), message_indexes))\n",
    "gamma_indexes = get_indexes(new)\n",
    "print(\"\\nВаша гамма:\\n{} ({})\".format(gamma.upper(), gamma_indexes))\n",
    "encrypted_message_indexes = encrypt(message_indexes, gamma_indexes)\n",
    "encrypted_message = to_text(encrypted_message_indexes)\n",
    "print(\"\\nЗашифрованное сообщение:\\n{} ({})\"\n",
    "\t.format(encrypted_message.upper(), encrypted_message_indexes))"
   ]
  },
  {
   "cell_type": "code",
   "execution_count": null,
   "id": "e157be94-0f0f-4b4f-b794-38f800360d9a",
   "metadata": {},
   "outputs": [],
   "source": []
  }
 ],
 "metadata": {
  "kernelspec": {
   "display_name": "Python 3 (ipykernel)",
   "language": "python",
   "name": "python3"
  },
  "language_info": {
   "codemirror_mode": {
    "name": "ipython",
    "version": 3
   },
   "file_extension": ".py",
   "mimetype": "text/x-python",
   "name": "python",
   "nbconvert_exporter": "python",
   "pygments_lexer": "ipython3",
   "version": "3.9.5"
  }
 },
 "nbformat": 4,
 "nbformat_minor": 5
}
